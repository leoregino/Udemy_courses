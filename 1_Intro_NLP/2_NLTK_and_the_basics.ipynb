{
 "cells": [
  {
   "cell_type": "code",
   "execution_count": 4,
   "id": "f13256e9",
   "metadata": {},
   "outputs": [],
   "source": [
    "# Dont do this \n",
    "# !pip3 install nltk"
   ]
  },
  {
   "cell_type": "code",
   "execution_count": 1,
   "id": "162fb4a6",
   "metadata": {},
   "outputs": [],
   "source": [
    "import nltk"
   ]
  },
  {
   "cell_type": "code",
   "execution_count": null,
   "id": "28411e80",
   "metadata": {},
   "outputs": [],
   "source": []
  },
  {
   "cell_type": "code",
   "execution_count": 33,
   "id": "cd1bf055",
   "metadata": {},
   "outputs": [
    {
     "name": "stderr",
     "output_type": "stream",
     "text": [
      "[nltk_data] Downloading package punkt to /Users/Leonardo/nltk_data...\n",
      "[nltk_data]   Unzipping tokenizers/punkt.zip.\n"
     ]
    },
    {
     "data": {
      "text/plain": [
       "True"
      ]
     },
     "execution_count": 33,
     "metadata": {},
     "output_type": "execute_result"
    }
   ],
   "source": [
    "# Download Project Gutenberg \n",
    "nltk.download('gutenberg') # To download the corpuse of Project Gutenberg\n",
    "nltk.download('punkt') # This package is required for Tokenisation"
   ]
  },
  {
   "cell_type": "code",
   "execution_count": 2,
   "id": "329bd2fc",
   "metadata": {},
   "outputs": [
    {
     "data": {
      "text/plain": [
       "['austen-emma.txt',\n",
       " 'austen-persuasion.txt',\n",
       " 'austen-sense.txt',\n",
       " 'bible-kjv.txt',\n",
       " 'blake-poems.txt',\n",
       " 'bryant-stories.txt',\n",
       " 'burgess-busterbrown.txt',\n",
       " 'carroll-alice.txt',\n",
       " 'chesterton-ball.txt',\n",
       " 'chesterton-brown.txt',\n",
       " 'chesterton-thursday.txt',\n",
       " 'edgeworth-parents.txt',\n",
       " 'melville-moby_dick.txt',\n",
       " 'milton-paradise.txt',\n",
       " 'shakespeare-caesar.txt',\n",
       " 'shakespeare-hamlet.txt',\n",
       " 'shakespeare-macbeth.txt',\n",
       " 'whitman-leaves.txt']"
      ]
     },
     "execution_count": 2,
     "metadata": {},
     "output_type": "execute_result"
    }
   ],
   "source": [
    "nltk.corpus.gutenberg.fileids()"
   ]
  },
  {
   "cell_type": "code",
   "execution_count": 9,
   "id": "027e430b",
   "metadata": {},
   "outputs": [],
   "source": [
    "# Extract the words from the book as a LIST\n",
    "md = nltk.corpus.gutenberg.words(\"melville-moby_dick.txt\")"
   ]
  },
  {
   "cell_type": "code",
   "execution_count": 10,
   "id": "8964e694",
   "metadata": {},
   "outputs": [
    {
     "data": {
      "text/plain": [
       "['[', 'Moby', 'Dick', 'by', 'Herman', 'Melville', '1851', ']']"
      ]
     },
     "execution_count": 10,
     "metadata": {},
     "output_type": "execute_result"
    }
   ],
   "source": [
    "# Retrieve the first X elements of the list (first X words)\n",
    "md[:8]"
   ]
  },
  {
   "cell_type": "markdown",
   "id": "28ec587a",
   "metadata": {},
   "source": [
    "## Counting frequencies"
   ]
  },
  {
   "cell_type": "code",
   "execution_count": 11,
   "id": "47cccb98",
   "metadata": {},
   "outputs": [
    {
     "data": {
      "text/plain": [
       "906"
      ]
     },
     "execution_count": 11,
     "metadata": {},
     "output_type": "execute_result"
    }
   ],
   "source": [
    "md.count(\"whale\")"
   ]
  },
  {
   "cell_type": "code",
   "execution_count": 12,
   "id": "67d3f3ab",
   "metadata": {},
   "outputs": [
    {
     "data": {
      "text/plain": [
       "282"
      ]
     },
     "execution_count": 12,
     "metadata": {},
     "output_type": "execute_result"
    }
   ],
   "source": [
    "md.count(\"Whale\") # Case-sensitive"
   ]
  },
  {
   "cell_type": "code",
   "execution_count": 13,
   "id": "c84ecb6e",
   "metadata": {},
   "outputs": [
    {
     "data": {
      "text/plain": [
       "330"
      ]
     },
     "execution_count": 13,
     "metadata": {},
     "output_type": "execute_result"
    }
   ],
   "source": [
    "md.count(\"boat\")"
   ]
  },
  {
   "cell_type": "code",
   "execution_count": 14,
   "id": "cf77e7e7",
   "metadata": {},
   "outputs": [
    {
     "data": {
      "text/plain": [
       "3"
      ]
     },
     "execution_count": 14,
     "metadata": {},
     "output_type": "execute_result"
    }
   ],
   "source": [
    "md.count(\"Boat\")"
   ]
  },
  {
   "cell_type": "code",
   "execution_count": 15,
   "id": "b8e9bda1",
   "metadata": {},
   "outputs": [
    {
     "data": {
      "text/plain": [
       "0"
      ]
     },
     "execution_count": 15,
     "metadata": {},
     "output_type": "execute_result"
    }
   ],
   "source": [
    "md.count(\"laptop\")"
   ]
  },
  {
   "cell_type": "code",
   "execution_count": 16,
   "id": "faa3f13b",
   "metadata": {},
   "outputs": [
    {
     "data": {
      "text/plain": [
       "260819"
      ]
     },
     "execution_count": 16,
     "metadata": {},
     "output_type": "execute_result"
    }
   ],
   "source": [
    "# Length of the book\n",
    "len(md)"
   ]
  },
  {
   "cell_type": "code",
   "execution_count": 20,
   "id": "ad80350c",
   "metadata": {},
   "outputs": [
    {
     "name": "stdout",
     "output_type": "stream",
     "text": [
      "Unique words in Moby Dick: 19317\n"
     ]
    }
   ],
   "source": [
    "# How many UNIQUE words there are in the book\n",
    "\n",
    "# 1 Create a SET from md\n",
    "md_set = set(md)\n",
    "\n",
    "# 2 Get the size (length) of the set \n",
    "print(\"Unique words in Moby Dick: \" + str(len(md_set)))\n"
   ]
  },
  {
   "cell_type": "markdown",
   "id": "10c857cd",
   "metadata": {},
   "source": [
    "# Average nb of times a word is being used in the book"
   ]
  },
  {
   "cell_type": "code",
   "execution_count": 21,
   "id": "524e59e3",
   "metadata": {},
   "outputs": [
    {
     "data": {
      "text/plain": [
       "13.502044830977896"
      ]
     },
     "execution_count": 21,
     "metadata": {},
     "output_type": "execute_result"
    }
   ],
   "source": [
    "len(md)/len(md_set)"
   ]
  },
  {
   "cell_type": "code",
   "execution_count": 22,
   "id": "4431cfa7",
   "metadata": {},
   "outputs": [],
   "source": [
    "# each word was used on average around 13 times along the book"
   ]
  },
  {
   "cell_type": "markdown",
   "id": "7d61aab3",
   "metadata": {},
   "source": [
    "## Treat the book as sentences"
   ]
  },
  {
   "cell_type": "code",
   "execution_count": 34,
   "id": "0b6386da",
   "metadata": {},
   "outputs": [],
   "source": [
    "md_sents = nltk.corpus.gutenberg.sents(\"melville-moby_dick.txt\")"
   ]
  },
  {
   "cell_type": "code",
   "execution_count": 36,
   "id": "de4940a4",
   "metadata": {},
   "outputs": [
    {
     "data": {
      "text/plain": [
       "25.928919375683467"
      ]
     },
     "execution_count": 36,
     "metadata": {},
     "output_type": "execute_result"
    }
   ],
   "source": [
    "len(md)/len(md_sents)"
   ]
  },
  {
   "cell_type": "code",
   "execution_count": null,
   "id": "fbfe7b2f",
   "metadata": {},
   "outputs": [],
   "source": []
  },
  {
   "cell_type": "markdown",
   "id": "0090a8e8",
   "metadata": {},
   "source": [
    "# FREQUENCY DISTIRBUTION"
   ]
  },
  {
   "cell_type": "code",
   "execution_count": 3,
   "id": "56e293c8",
   "metadata": {},
   "outputs": [],
   "source": [
    "alice = nltk.corpus.gutenberg.words(\"carroll-alice.txt\")"
   ]
  },
  {
   "cell_type": "code",
   "execution_count": 4,
   "id": "8e5e918c",
   "metadata": {},
   "outputs": [],
   "source": [
    "alice_fd = nltk.FreqDist(alice)"
   ]
  },
  {
   "cell_type": "code",
   "execution_count": 5,
   "id": "e5b67145",
   "metadata": {},
   "outputs": [
    {
     "data": {
      "text/plain": [
       "FreqDist({',': 1993, \"'\": 1731, 'the': 1527, 'and': 802, '.': 764, 'to': 725, 'a': 615, 'I': 543, 'it': 527, 'she': 509, ...})"
      ]
     },
     "execution_count": 5,
     "metadata": {},
     "output_type": "execute_result"
    }
   ],
   "source": [
    "alice_fd"
   ]
  },
  {
   "cell_type": "code",
   "execution_count": 6,
   "id": "402932d6",
   "metadata": {},
   "outputs": [
    {
     "data": {
      "text/plain": [
       "45"
      ]
     },
     "execution_count": 6,
     "metadata": {},
     "output_type": "execute_result"
    }
   ],
   "source": [
    "alice_fd[\"Rabbit\"]"
   ]
  },
  {
   "cell_type": "code",
   "execution_count": 7,
   "id": "597f7c9c",
   "metadata": {},
   "outputs": [
    {
     "data": {
      "text/plain": [
       "5"
      ]
     },
     "execution_count": 7,
     "metadata": {},
     "output_type": "execute_result"
    }
   ],
   "source": [
    "alice_fd[\"rabbit\"]"
   ]
  },
  {
   "cell_type": "code",
   "execution_count": 8,
   "id": "66fe6710",
   "metadata": {},
   "outputs": [
    {
     "data": {
      "text/plain": [
       "[(',', 1993),\n",
       " (\"'\", 1731),\n",
       " ('the', 1527),\n",
       " ('and', 802),\n",
       " ('.', 764),\n",
       " ('to', 725),\n",
       " ('a', 615),\n",
       " ('I', 543),\n",
       " ('it', 527),\n",
       " ('she', 509),\n",
       " ('of', 500),\n",
       " ('said', 456),\n",
       " (\",'\", 397),\n",
       " ('Alice', 396),\n",
       " ('in', 357)]"
      ]
     },
     "execution_count": 8,
     "metadata": {},
     "output_type": "execute_result"
    }
   ],
   "source": [
    "# Non descriptive words\n",
    "alice_fd.most_common(15) "
   ]
  },
  {
   "cell_type": "code",
   "execution_count": 9,
   "id": "53670b91",
   "metadata": {},
   "outputs": [
    {
     "data": {
      "text/plain": [
       "['Lewis',\n",
       " 'Carroll',\n",
       " '1865',\n",
       " ']',\n",
       " 'Hole',\n",
       " 'conversations',\n",
       " 'daisy',\n",
       " 'chain',\n",
       " 'daisies',\n",
       " 'pink',\n",
       " 'wondered',\n",
       " 'actually',\n",
       " 'TOOK',\n",
       " 'WATCH',\n",
       " 'OUT',\n",
       " 'ITS',\n",
       " 'WAISTCOAT',\n",
       " 'POCKET',\n",
       " 'flashed',\n",
       " 'waistcoat',\n",
       " 'burning',\n",
       " 'field',\n",
       " 'fortunately',\n",
       " 'pop',\n",
       " 'tunnel',\n",
       " 'stopping',\n",
       " 'Either',\n",
       " 'plenty',\n",
       " 'maps',\n",
       " 'hung',\n",
       " 'pegs',\n",
       " 'labelled',\n",
       " 'ORANGE',\n",
       " 'MARMALADE',\n",
       " 'disappointment',\n",
       " 'empty',\n",
       " 'drop',\n",
       " 'killing',\n",
       " 'brave',\n",
       " 'centre',\n",
       " 'schoolroom',\n",
       " 'practice',\n",
       " 'yes',\n",
       " 'THROUGH',\n",
       " 'downward',\n",
       " 'Antipathies',\n",
       " 'country',\n",
       " 'New',\n",
       " 'Zealand',\n",
       " 'Australia',\n",
       " 'curtsey',\n",
       " 'CURTSEYING',\n",
       " '?)',\n",
       " 'ignorant',\n",
       " 'miss',\n",
       " 'saucer',\n",
       " 'dreamy',\n",
       " 'dozing',\n",
       " 'truth',\n",
       " 'heap',\n",
       " 'sticks',\n",
       " 'overhead',\n",
       " 'hurrying',\n",
       " 'lit',\n",
       " 'lamps',\n",
       " 'locked',\n",
       " 'Suddenly',\n",
       " 'solid',\n",
       " 'belong',\n",
       " 'curtain',\n",
       " 'fifteen',\n",
       " 'lock',\n",
       " 'fitted',\n",
       " 'rat',\n",
       " 'knelt',\n",
       " 'loveliest',\n",
       " 'wander',\n",
       " 'doorway',\n",
       " 'lately',\n",
       " 'telescopes',\n",
       " 'printed',\n",
       " 'letters',\n",
       " 'Drink',\n",
       " 'histories',\n",
       " 'burnt',\n",
       " 'eaten',\n",
       " 'poker',\n",
       " 'bleeds',\n",
       " 'disagree',\n",
       " 'flavour',\n",
       " 'cherry',\n",
       " 'tart',\n",
       " 'custard',\n",
       " 'pine',\n",
       " 'apple',\n",
       " 'roast',\n",
       " 'turkey',\n",
       " 'toffee',\n",
       " 'buttered',\n",
       " 'toast',\n",
       " 'shrink',\n",
       " 'flame',\n",
       " 'blown',\n",
       " 'plainly',\n",
       " 'climb',\n",
       " 'slippery',\n",
       " 'advise',\n",
       " 'advice',\n",
       " 'seldom',\n",
       " 'scolded',\n",
       " 'cheated',\n",
       " 'pretending',\n",
       " 'pretend',\n",
       " 'respectable',\n",
       " 'Soon',\n",
       " 'EAT',\n",
       " 'currants',\n",
       " 'creep',\n",
       " 'ate',\n",
       " \"?',\",\n",
       " 'eats',\n",
       " 'common',\n",
       " 'II',\n",
       " 'Pool',\n",
       " 'Tears',\n",
       " 'Curiouser',\n",
       " 'curiouser',\n",
       " 'largest',\n",
       " 'Good',\n",
       " 'stockings',\n",
       " 'able',\n",
       " ';--',\n",
       " 'Christmas',\n",
       " 'planning',\n",
       " 'carrier',\n",
       " 'odd',\n",
       " 'RIGHT',\n",
       " 'FOOT',\n",
       " 'ESQ',\n",
       " 'HEARTHRUG',\n",
       " 'NEAR',\n",
       " 'FENDER',\n",
       " 'WITH',\n",
       " 'LOVE',\n",
       " 'hopeless',\n",
       " 'Stop',\n",
       " 'shedding',\n",
       " 'gallons',\n",
       " 'reaching',\n",
       " 'dried',\n",
       " 'returning',\n",
       " 'splendidly',\n",
       " 'dressed',\n",
       " 'desperate',\n",
       " 'skurried',\n",
       " 'darkness',\n",
       " 'fanning',\n",
       " 'Dear',\n",
       " 'puzzle',\n",
       " 'Ada',\n",
       " 'Besides',\n",
       " 'five',\n",
       " 'thirteen',\n",
       " 'seven',\n",
       " 'Multiplication',\n",
       " 'Table',\n",
       " 'signify',\n",
       " 'Geography',\n",
       " 'London',\n",
       " 'crocodile',\n",
       " 'Improve',\n",
       " 'shining',\n",
       " 'pour',\n",
       " 'waters',\n",
       " 'Nile',\n",
       " 'scale',\n",
       " 'cheerfully',\n",
       " 'welcome',\n",
       " 'fishes',\n",
       " 'poky',\n",
       " 'toys',\n",
       " 'burst',\n",
       " 'measure',\n",
       " 'avoid',\n",
       " 'existence',\n",
       " 'speed',\n",
       " 'splash',\n",
       " 'somehow',\n",
       " 'seaside',\n",
       " 'coast',\n",
       " 'bathing',\n",
       " 'machines',\n",
       " 'sand',\n",
       " 'wooden',\n",
       " 'spades',\n",
       " 'lodging',\n",
       " 'houses',\n",
       " 'station',\n",
       " 'wept',\n",
       " 'punished',\n",
       " 'drowned',\n",
       " 'walrus',\n",
       " 'hippopotamus',\n",
       " 'harm',\n",
       " 'brother',\n",
       " 'Latin',\n",
       " 'Grammar',\n",
       " \"!')\",\n",
       " 'inquisitively',\n",
       " 'daresay',\n",
       " 'Ou',\n",
       " 'est',\n",
       " 'ma',\n",
       " 'chatte',\n",
       " 'leap',\n",
       " 'quiver',\n",
       " 'passionate',\n",
       " 'soothing',\n",
       " 'lazily',\n",
       " 'sits',\n",
       " 'licking',\n",
       " 'soft',\n",
       " 'bristling',\n",
       " 'Our',\n",
       " 'family',\n",
       " 'HATED',\n",
       " 'nasty',\n",
       " 'vulgar',\n",
       " 'eyed',\n",
       " 'terrier',\n",
       " 'curly',\n",
       " 'farmer',\n",
       " 'hundred',\n",
       " 'pounds',\n",
       " 'kills',\n",
       " 'rats',\n",
       " 'commotion',\n",
       " 'softly',\n",
       " 'III',\n",
       " 'Race',\n",
       " 'Long',\n",
       " 'Tale',\n",
       " 'draggled',\n",
       " 'feathers',\n",
       " 'clinging',\n",
       " 'dripping',\n",
       " 'consultation',\n",
       " 'familiarly',\n",
       " 'known',\n",
       " 'Indeed',\n",
       " 'positively',\n",
       " 'refused',\n",
       " 'Sit',\n",
       " 'LL',\n",
       " 'fixed',\n",
       " 'cold',\n",
       " 'Ahem',\n",
       " 'driest',\n",
       " 'favoured',\n",
       " 'pope',\n",
       " 'submitted',\n",
       " 'leaders',\n",
       " 'accustomed',\n",
       " 'usurpation',\n",
       " 'conquest',\n",
       " 'shiver',\n",
       " 'declared',\n",
       " 'Stigand',\n",
       " 'patriotic',\n",
       " 'Canterbury',\n",
       " 'crossly',\n",
       " 'worm',\n",
       " '\\'\"--',\n",
       " 'Edgar',\n",
       " 'Atheling',\n",
       " 'conduct',\n",
       " 'moderate',\n",
       " 'insolence',\n",
       " 'Normans',\n",
       " 'rising',\n",
       " 'meeting',\n",
       " 'adjourn',\n",
       " 'immediate',\n",
       " 'adoption',\n",
       " 'energetic',\n",
       " 'remedies',\n",
       " 'bent',\n",
       " 'hide',\n",
       " 'tittered',\n",
       " 'audibly',\n",
       " 'paused',\n",
       " 'SOMEBODY',\n",
       " 'inclined',\n",
       " 'winter',\n",
       " 'circle',\n",
       " 'exact',\n",
       " 'shape',\n",
       " 'placed',\n",
       " 'Shakespeare',\n",
       " 'EVERYBODY',\n",
       " 'calling',\n",
       " 'despair',\n",
       " 'pulled',\n",
       " 'luckily',\n",
       " 'prize',\n",
       " 'Hand',\n",
       " 'presented',\n",
       " 'acceptance',\n",
       " 'elegant',\n",
       " 'laugh',\n",
       " 'complained',\n",
       " 'theirs',\n",
       " 'ones',\n",
       " 'patted',\n",
       " 'begged',\n",
       " 'promised',\n",
       " 'C',\n",
       " 'Mine',\n",
       " 'prosecute',\n",
       " 'denial',\n",
       " 'cur',\n",
       " 'Such',\n",
       " 'Sir',\n",
       " 'cunning',\n",
       " 'condemn',\n",
       " 'death',\n",
       " 'fifth',\n",
       " 'undo',\n",
       " 'insult',\n",
       " 'growled',\n",
       " 'quicker',\n",
       " 'daughter',\n",
       " 'lose',\n",
       " 'snappishly',\n",
       " 'patience',\n",
       " 'oyster',\n",
       " 'addressing',\n",
       " 'pet',\n",
       " 'Magpie',\n",
       " 'wrapping',\n",
       " 'Canary',\n",
       " 'bed',\n",
       " 'various',\n",
       " 'pretexts',\n",
       " 'spirited',\n",
       " 'IV',\n",
       " 'Sends',\n",
       " 'Little',\n",
       " 'naturedly',\n",
       " 'completely',\n",
       " 'Run',\n",
       " 'Quick',\n",
       " 'pointed',\n",
       " 'housemaid',\n",
       " 'finds',\n",
       " 'neat',\n",
       " 'brass',\n",
       " 'W',\n",
       " 'RABBIT',\n",
       " 'engraved',\n",
       " 'upstairs',\n",
       " 'lest',\n",
       " 'fancying',\n",
       " 'Coming',\n",
       " 'tidy',\n",
       " 'hoped',\n",
       " 'pairs',\n",
       " 'nevertheless',\n",
       " 'uncorked',\n",
       " 'lips',\n",
       " 'SOMETHING',\n",
       " 'whenever',\n",
       " 'expected',\n",
       " 'pressing',\n",
       " 'ceiling',\n",
       " 'save',\n",
       " 'Alas',\n",
       " 'kneel',\n",
       " 'Still',\n",
       " 'resource',\n",
       " 'Luckily',\n",
       " 'magic',\n",
       " 'grew',\n",
       " 'pleasanter',\n",
       " 'rabbits',\n",
       " 'fairy',\n",
       " 'tales',\n",
       " 'HERE',\n",
       " 'comfort',\n",
       " 'foolish',\n",
       " 'Fetch',\n",
       " 'inwards',\n",
       " 'attempt',\n",
       " 'failure',\n",
       " 'possible',\n",
       " 'frame',\n",
       " 'Sounds',\n",
       " 'pronounced',\n",
       " 'arrum',\n",
       " \".')\",\n",
       " 'fills',\n",
       " 'whispers',\n",
       " 'coward',\n",
       " 'shrieks',\n",
       " 'frames',\n",
       " 'pulling',\n",
       " 'rumbling',\n",
       " 'cartwheels',\n",
       " 'ladder',\n",
       " 'lad',\n",
       " 'tie',\n",
       " 'rope',\n",
       " 'loose',\n",
       " 'Heads',\n",
       " 'Nay',\n",
       " 'Shy',\n",
       " 'fireplace',\n",
       " 'scratching',\n",
       " 'scrambling',\n",
       " 'Catch',\n",
       " 'Brandy',\n",
       " 'choke',\n",
       " 'Last',\n",
       " 'thank',\n",
       " 'ye',\n",
       " 'flustered',\n",
       " 'Jack',\n",
       " 'rocket',\n",
       " 'produced',\n",
       " 'SOME',\n",
       " 'swallowed',\n",
       " 'thick',\n",
       " 'arranged',\n",
       " 'peering',\n",
       " 'enormous',\n",
       " 'feebly',\n",
       " 'stretching',\n",
       " 'touch',\n",
       " 'whistle',\n",
       " 'terribly',\n",
       " 'spite',\n",
       " 'Hardly',\n",
       " 'whereupon',\n",
       " 'yelp',\n",
       " 'rushed',\n",
       " 'worry',\n",
       " 'dodged',\n",
       " 'tumbled',\n",
       " 'heels',\n",
       " 'cart',\n",
       " 'horse',\n",
       " 'trampled',\n",
       " 'series',\n",
       " 'charges',\n",
       " 'forwards',\n",
       " 'barking',\n",
       " 'hoarsely',\n",
       " 'faint',\n",
       " 'leant',\n",
       " 'buttercup',\n",
       " 'fanned',\n",
       " 'teaching',\n",
       " 'tricks',\n",
       " 'blades',\n",
       " 'circumstances',\n",
       " 'caterpillar',\n",
       " 'V',\n",
       " 'Advice',\n",
       " 'languid',\n",
       " 'shyly',\n",
       " 'sternly',\n",
       " 'MYSELF',\n",
       " 'clearly',\n",
       " 'sizes',\n",
       " 'chrysalis',\n",
       " 'butterfly',\n",
       " 'irritated',\n",
       " 'state',\n",
       " 'promising',\n",
       " 'swallowing',\n",
       " 'wait',\n",
       " 'puffed',\n",
       " 'HOW',\n",
       " 'DOTH',\n",
       " 'BUSY',\n",
       " 'BEE',\n",
       " 'Repeat',\n",
       " 'incessantly',\n",
       " 'son',\n",
       " 'feared',\n",
       " 'injure',\n",
       " 'brain',\n",
       " 'uncommonly',\n",
       " 'fat',\n",
       " 'sage',\n",
       " 'grey',\n",
       " 'limbs',\n",
       " 'supple',\n",
       " 'ointment',\n",
       " 'shilling',\n",
       " 'Allow',\n",
       " 'couple',\n",
       " 'tougher',\n",
       " 'suet',\n",
       " 'bones',\n",
       " 'beak',\n",
       " 'argued',\n",
       " 'wife',\n",
       " 'muscular',\n",
       " 'strength',\n",
       " 'jaw',\n",
       " 'Has',\n",
       " 'steady',\n",
       " 'balanced',\n",
       " 'awfully',\n",
       " 'airs',\n",
       " 'altered',\n",
       " 'DON',\n",
       " 'contradicted',\n",
       " 'losing',\n",
       " 'content',\n",
       " 'rearing',\n",
       " 'upright',\n",
       " 'piteous',\n",
       " 'crawled',\n",
       " 'underneath',\n",
       " 'closely',\n",
       " 'swallow',\n",
       " 'morsel',\n",
       " 'immense',\n",
       " 'length',\n",
       " 'rise',\n",
       " 'stalk',\n",
       " 'result',\n",
       " 'curving',\n",
       " 'graceful',\n",
       " 'zigzag',\n",
       " 'dive',\n",
       " 'tops',\n",
       " 'hiss',\n",
       " 'pigeon',\n",
       " 'flown',\n",
       " 'wings',\n",
       " 'subdued',\n",
       " 'sob',\n",
       " 'banks',\n",
       " 'hedges',\n",
       " 'pleasing',\n",
       " 'hatching',\n",
       " 'weeks',\n",
       " 'sorry',\n",
       " 'annoyed',\n",
       " 'highest',\n",
       " 'raising',\n",
       " 'needs',\n",
       " 'wriggling',\n",
       " 'invent',\n",
       " 'deepest',\n",
       " 'contempt',\n",
       " 'denying',\n",
       " 'egg',\n",
       " 'truthful',\n",
       " 'adding',\n",
       " 'YOURS',\n",
       " 'raw',\n",
       " 'nest',\n",
       " 'crouched',\n",
       " 'untwist',\n",
       " 'Whoever',\n",
       " 'frighten',\n",
       " 'wits',\n",
       " 'righthand',\n",
       " 'VI',\n",
       " '--(',\n",
       " 'judging',\n",
       " ')--',\n",
       " 'rapped',\n",
       " 'knuckles',\n",
       " 'footmen',\n",
       " 'powdered',\n",
       " 'crept',\n",
       " 'producing',\n",
       " 'Frog',\n",
       " 'From',\n",
       " 'curls',\n",
       " 'stupidly',\n",
       " 'knocked',\n",
       " 'reasons',\n",
       " 'inside',\n",
       " 'kettle',\n",
       " 'INSIDE',\n",
       " 'knock',\n",
       " 'uncivil',\n",
       " 'tomorrow',\n",
       " 'skimming',\n",
       " 'grazed',\n",
       " 'maybe',\n",
       " 'louder',\n",
       " 'argue',\n",
       " 'drive',\n",
       " 'crazy',\n",
       " 'variations',\n",
       " 'Anything',\n",
       " 'whistling',\n",
       " 'desperately',\n",
       " 'idiotic',\n",
       " 'smoke',\n",
       " 'stool',\n",
       " 'Even',\n",
       " 'sneezed',\n",
       " 'occasionally',\n",
       " 'alternately',\n",
       " 'hearth',\n",
       " 'grinning',\n",
       " 'manners',\n",
       " 'grins',\n",
       " 'violence',\n",
       " 'fix',\n",
       " 'irons',\n",
       " 'saucepans',\n",
       " 'blows',\n",
       " 'PLEASE',\n",
       " 'agony',\n",
       " 'terror',\n",
       " 'PRECIOUS',\n",
       " 'unusually',\n",
       " 'saucepan',\n",
       " 'flew',\n",
       " 'minded',\n",
       " 'axis',\n",
       " 'Talking',\n",
       " 'axes',\n",
       " 'chop',\n",
       " 'glanced',\n",
       " 'Twenty',\n",
       " 'bother',\n",
       " 'abide',\n",
       " 'figures',\n",
       " 'lullaby',\n",
       " 'shake',\n",
       " 'roughly',\n",
       " 'annoy',\n",
       " 'Because',\n",
       " 'teases',\n",
       " '):--',\n",
       " 'howled',\n",
       " 'enjoy',\n",
       " 'pleases',\n",
       " 'flinging',\n",
       " 'frying',\n",
       " 'pan',\n",
       " 'star',\n",
       " 'snorting',\n",
       " 'steam',\n",
       " 'engine',\n",
       " 'doubling',\n",
       " 'straightening',\n",
       " 'tight',\n",
       " 'prevent',\n",
       " 'undoing',\n",
       " 'kill',\n",
       " 'murder',\n",
       " 'grunt',\n",
       " 'expressing',\n",
       " 'snout',\n",
       " 'seriously',\n",
       " 'sobbed',\n",
       " 'NO',\n",
       " 'carry',\n",
       " 'relieved',\n",
       " 'trot',\n",
       " 'handsome',\n",
       " 'seeing',\n",
       " 'bough',\n",
       " 'yards',\n",
       " 'natured',\n",
       " 'teeth',\n",
       " 'treated',\n",
       " 'respect',\n",
       " 'Puss',\n",
       " 'wider',\n",
       " 'depends',\n",
       " 'SOMEWHERE',\n",
       " 'Visit',\n",
       " 'To',\n",
       " 'grant',\n",
       " 'growls',\n",
       " 'wags',\n",
       " 'wag',\n",
       " 'Therefore',\n",
       " 'growling',\n",
       " 'happening',\n",
       " 'hatters',\n",
       " 'branch',\n",
       " 'fig',\n",
       " 'appearing',\n",
       " 'vanishing',\n",
       " 'farther',\n",
       " 'chimneys',\n",
       " 'thatched',\n",
       " 'towards',\n",
       " 'VII',\n",
       " 'Mad',\n",
       " 'Tea',\n",
       " 'Party',\n",
       " 'elbows',\n",
       " 'PLENTY',\n",
       " 'chair',\n",
       " 'cutting',\n",
       " 'severity',\n",
       " 'raven',\n",
       " 'desk',\n",
       " 'ravens',\n",
       " 'desks',\n",
       " 'fourth',\n",
       " 'works',\n",
       " 'grumbled',\n",
       " 'gloomily',\n",
       " 'readily',\n",
       " 'stays',\n",
       " 'poured',\n",
       " 'riddle',\n",
       " 'slightest',\n",
       " 'Nor',\n",
       " 'wearily',\n",
       " 'waste',\n",
       " 'answers',\n",
       " 'accounts',\n",
       " 'terms',\n",
       " 'Half',\n",
       " 'mournfully',\n",
       " 'quarrelled',\n",
       " 'given',\n",
       " 'Like',\n",
       " 'tray',\n",
       " 'pinch',\n",
       " 'bawled',\n",
       " 'murdering',\n",
       " 'mournful',\n",
       " 'whiles',\n",
       " 'vote',\n",
       " 'alarmed',\n",
       " 'proposal',\n",
       " 'fellows',\n",
       " 'quick',\n",
       " 'Elsie',\n",
       " 'Lacie',\n",
       " 'Tillie',\n",
       " 'interest',\n",
       " 'eating',\n",
       " 'drinking',\n",
       " 'ways',\n",
       " 'LESS',\n",
       " 'opinion',\n",
       " 'helped',\n",
       " 'Sh',\n",
       " 'sh',\n",
       " 'interrupt',\n",
       " 'consented',\n",
       " 'promise',\n",
       " 'clean',\n",
       " 'unwillingly',\n",
       " 'jug',\n",
       " 'offend',\n",
       " 'eh',\n",
       " 'IN',\n",
       " 'choosing',\n",
       " 'doze',\n",
       " 'woke',\n",
       " 'traps',\n",
       " 'moon',\n",
       " 'memory',\n",
       " 'drawing',\n",
       " 'rudeness',\n",
       " 'disgust',\n",
       " 'teapot',\n",
       " 'THERE',\n",
       " 'stupidest',\n",
       " 'leading',\n",
       " 'today',\n",
       " 'unlocking',\n",
       " 'THEN',\n",
       " 'VIII',\n",
       " 'Croquet',\n",
       " 'Ground',\n",
       " 'entrance',\n",
       " 'Look',\n",
       " 'paint',\n",
       " 'jogged',\n",
       " 'Always',\n",
       " 'blame',\n",
       " 'deserved',\n",
       " 'spoken',\n",
       " 'tulip',\n",
       " 'onions',\n",
       " 'flung',\n",
       " 'brush',\n",
       " 'unjust',\n",
       " 'chanced',\n",
       " 'RED',\n",
       " 'afore',\n",
       " 'clubs',\n",
       " 'oblong',\n",
       " 'corners',\n",
       " 'diamonds',\n",
       " 'merrily',\n",
       " 'couples',\n",
       " 'hearts',\n",
       " 'Kings',\n",
       " 'Queens',\n",
       " 'recognised',\n",
       " 'noticing',\n",
       " 'velvet',\n",
       " 'KING',\n",
       " 'QUEEN',\n",
       " 'HEARTS',\n",
       " 'processions',\n",
       " 'opposite',\n",
       " 'Idiot',\n",
       " 'THESE',\n",
       " 'rosetree',\n",
       " 'pattern',\n",
       " 'backs',\n",
       " 'fury',\n",
       " 'glaring',\n",
       " 'beast',\n",
       " 'Nonsense',\n",
       " 'bowing',\n",
       " 'Leave',\n",
       " 'humble',\n",
       " 'meanwhile',\n",
       " 'examining',\n",
       " 'remaining',\n",
       " 'execute',\n",
       " 'protection',\n",
       " 'pot',\n",
       " 'marched',\n",
       " 'Their',\n",
       " 'evidently',\n",
       " 'roared',\n",
       " 'peeping',\n",
       " '!\"?\\'',\n",
       " 'boxed',\n",
       " 'laughter',\n",
       " 'hush',\n",
       " 'thunder',\n",
       " 'ridges',\n",
       " 'furrows',\n",
       " 'balls',\n",
       " 'mallets',\n",
       " 'double',\n",
       " 'chief',\n",
       " 'managing',\n",
       " 'comfortably',\n",
       " 'straightened',\n",
       " 'expression',\n",
       " 'bursting',\n",
       " 'laughing',\n",
       " 'provoking',\n",
       " 'act',\n",
       " 'crawling',\n",
       " 'ridge',\n",
       " 'furrow',\n",
       " 'send',\n",
       " 'doubled',\n",
       " 'parts',\n",
       " 'played',\n",
       " 'fighting',\n",
       " 'furious',\n",
       " 'uneasy',\n",
       " 'beheading',\n",
       " 'appearance',\n",
       " 'nodded',\n",
       " 'account',\n",
       " 'someone',\n",
       " 'fairly',\n",
       " 'complaining',\n",
       " 'quarrel',\n",
       " 'oneself',\n",
       " 'attends',\n",
       " 'arch',\n",
       " 'croqueted',\n",
       " 'win',\n",
       " 'finishing',\n",
       " 'kiss',\n",
       " 'likes',\n",
       " 'impertinent',\n",
       " 'king',\n",
       " 'passing',\n",
       " 'settling',\n",
       " 'difficulties',\n",
       " 'screaming',\n",
       " 'search',\n",
       " 'engaged',\n",
       " 'croqueting',\n",
       " 'helpless',\n",
       " 'appealed',\n",
       " 'settle',\n",
       " 'arguments',\n",
       " 'HIS',\n",
       " 'weren',\n",
       " 'prison',\n",
       " 'arrow',\n",
       " 'fading',\n",
       " 'IX',\n",
       " 'Story',\n",
       " 'affectionately',\n",
       " 'pleasant',\n",
       " 'hopeful',\n",
       " 'AT',\n",
       " 'Maybe',\n",
       " 'vinegar',\n",
       " 'sour',\n",
       " 'camomile',\n",
       " 'bitter',\n",
       " 'barley',\n",
       " 'sweet',\n",
       " 'stingy',\n",
       " 'Tut',\n",
       " 'tut',\n",
       " 'squeezed',\n",
       " 'closer',\n",
       " 'uncomfortably',\n",
       " 'bore',\n",
       " 'Somebody',\n",
       " 'minding',\n",
       " 'morals',\n",
       " 'waist',\n",
       " 'Birds',\n",
       " 'feather',\n",
       " 'flock',\n",
       " 'Right',\n",
       " 'mineral',\n",
       " 'attended',\n",
       " 'vegetable',\n",
       " 'imagine',\n",
       " 'cheap',\n",
       " 'birthday',\n",
       " 'Thinking',\n",
       " 'dig',\n",
       " 'worried',\n",
       " 'died',\n",
       " 'favourite',\n",
       " 'linked',\n",
       " 'tremble',\n",
       " 'thunderstorm',\n",
       " 'fair',\n",
       " 'warning',\n",
       " 'absence',\n",
       " 'shade',\n",
       " 'delay',\n",
       " 'cost',\n",
       " 'Those',\n",
       " 'whom',\n",
       " 'sentenced',\n",
       " 'company',\n",
       " 'pardoned',\n",
       " 'picture',\n",
       " 'lazy',\n",
       " 'leaving',\n",
       " 'rubbed',\n",
       " 'chuckled',\n",
       " 'executes',\n",
       " 'ledge',\n",
       " 'rock',\n",
       " 'pitied',\n",
       " 'hollow',\n",
       " 'EVEN',\n",
       " 'occasional',\n",
       " 'exclamation',\n",
       " 'Hjckrrh',\n",
       " 'calmly',\n",
       " 'sink',\n",
       " 'Drive',\n",
       " 'mayn',\n",
       " 'educations',\n",
       " 'VE',\n",
       " 'extras',\n",
       " 'learned',\n",
       " 'Certainly',\n",
       " 'OURS',\n",
       " 'bill',\n",
       " 'WASHING',\n",
       " 'extra',\n",
       " 'afford',\n",
       " 'inquired',\n",
       " 'Reeling',\n",
       " 'Writhing',\n",
       " 'Arithmetic',\n",
       " 'Ambition',\n",
       " 'Distraction',\n",
       " 'Derision',\n",
       " 'lifted',\n",
       " 'uglifying',\n",
       " 'beautify',\n",
       " 'prettier',\n",
       " 'uglify',\n",
       " 'simpleton',\n",
       " 'encouraged',\n",
       " 'counting',\n",
       " ...]"
      ]
     },
     "execution_count": 9,
     "metadata": {},
     "output_type": "execute_result"
    }
   ],
   "source": [
    "alice_fd.hapaxes()"
   ]
  },
  {
   "cell_type": "code",
   "execution_count": null,
   "id": "7051f8f3",
   "metadata": {},
   "outputs": [],
   "source": []
  },
  {
   "cell_type": "markdown",
   "id": "36712a4e",
   "metadata": {},
   "source": [
    "# CONDITIONAL FREQUENCY DISTRIBUTION"
   ]
  },
  {
   "cell_type": "code",
   "execution_count": 10,
   "id": "d88718f7",
   "metadata": {},
   "outputs": [],
   "source": [
    "names = [('Group A','Paul'), ('Group A','Mike'),('Group A','Katy'),('Group B','Amy'),('Group B','Joe'),('Group B','Amy')]"
   ]
  },
  {
   "cell_type": "code",
   "execution_count": 11,
   "id": "767261af",
   "metadata": {},
   "outputs": [
    {
     "data": {
      "text/plain": [
       "FreqDist({('Group B', 'Amy'): 2, ('Group A', 'Paul'): 1, ('Group A', 'Mike'): 1, ('Group A', 'Katy'): 1, ('Group B', 'Joe'): 1})"
      ]
     },
     "execution_count": 11,
     "metadata": {},
     "output_type": "execute_result"
    }
   ],
   "source": [
    "# it counts the touples as a whole\n",
    "nltk.FreqDist(names)"
   ]
  },
  {
   "cell_type": "code",
   "execution_count": 14,
   "id": "086ecdfa",
   "metadata": {},
   "outputs": [
    {
     "data": {
      "text/plain": [
       "<ConditionalFreqDist with 2 conditions>"
      ]
     },
     "execution_count": 14,
     "metadata": {},
     "output_type": "execute_result"
    }
   ],
   "source": [
    "# It counts the names in each group\n",
    "nltk.ConditionalFreqDist(names)"
   ]
  },
  {
   "cell_type": "code",
   "execution_count": null,
   "id": "04d3bebf",
   "metadata": {},
   "outputs": [],
   "source": []
  },
  {
   "cell_type": "markdown",
   "id": "55f0d967",
   "metadata": {},
   "source": [
    "# INFORMATIVE WORDS"
   ]
  },
  {
   "cell_type": "code",
   "execution_count": 10,
   "id": "84b356f7",
   "metadata": {},
   "outputs": [],
   "source": [
    "# 100 most common words for Alice in wonderland\n",
    "alice = nltk.corpus.gutenberg.words(\"carroll-alice.txt\")\n",
    "alice_fd = nltk.FreqDist(alice)\n",
    "alice_fd_100 = alice_fd.most_common(100)"
   ]
  },
  {
   "cell_type": "code",
   "execution_count": 11,
   "id": "6923655b",
   "metadata": {},
   "outputs": [],
   "source": [
    "# 100 most common words for Moby Dick\n",
    "moby = nltk.corpus.gutenberg.words(\"melville-moby_dick.txt\")\n",
    "moby_fd = nltk.FreqDist(moby)\n",
    "moby_fd_100 = moby_fd.most_common(100)"
   ]
  },
  {
   "cell_type": "code",
   "execution_count": 12,
   "id": "b4643748",
   "metadata": {},
   "outputs": [
    {
     "data": {
      "text/plain": [
       "[(',', 1993),\n",
       " (\"'\", 1731),\n",
       " ('the', 1527),\n",
       " ('and', 802),\n",
       " ('.', 764),\n",
       " ('to', 725),\n",
       " ('a', 615),\n",
       " ('I', 543),\n",
       " ('it', 527),\n",
       " ('she', 509),\n",
       " ('of', 500),\n",
       " ('said', 456),\n",
       " (\",'\", 397),\n",
       " ('Alice', 396),\n",
       " ('in', 357),\n",
       " ('was', 352),\n",
       " ('you', 345),\n",
       " (\"!'\", 278),\n",
       " ('that', 275),\n",
       " ('as', 246),\n",
       " ('her', 243),\n",
       " (':', 216),\n",
       " ('t', 216),\n",
       " ('at', 202),\n",
       " ('s', 195),\n",
       " ('on', 189),\n",
       " (\".'\", 187),\n",
       " (';', 186),\n",
       " ('had', 177),\n",
       " ('with', 175),\n",
       " ('all', 173),\n",
       " ('!', 155),\n",
       " (\"?'\", 154),\n",
       " ('be', 145),\n",
       " ('-', 141),\n",
       " ('for', 140),\n",
       " ('--', 140),\n",
       " ('but', 133),\n",
       " ('not', 129),\n",
       " ('they', 129),\n",
       " ('very', 126),\n",
       " ('little', 125),\n",
       " ('so', 124),\n",
       " ('out', 116),\n",
       " ('this', 113),\n",
       " ('The', 108),\n",
       " ('he', 101),\n",
       " ('down', 99),\n",
       " ('up', 98),\n",
       " ('is', 97),\n",
       " ('about', 94),\n",
       " ('one', 94),\n",
       " ('his', 94),\n",
       " ('what', 93),\n",
       " ('them', 88),\n",
       " ('know', 87),\n",
       " ('were', 85),\n",
       " ('like', 84),\n",
       " ('went', 83),\n",
       " ('again', 83),\n",
       " ('herself', 83),\n",
       " ('if', 78),\n",
       " ('or', 76),\n",
       " ('thought', 74),\n",
       " ('Queen', 74),\n",
       " ('could', 73),\n",
       " ('have', 73),\n",
       " ('then', 72),\n",
       " ('would', 70),\n",
       " ('no', 69),\n",
       " ('when', 69),\n",
       " ('do', 68),\n",
       " ('time', 68),\n",
       " ('into', 67),\n",
       " ('And', 67),\n",
       " ('see', 66),\n",
       " ('there', 65),\n",
       " ('It', 64),\n",
       " ('off', 62),\n",
       " ('me', 61),\n",
       " ('King', 61),\n",
       " ('did', 60),\n",
       " ('*', 60),\n",
       " ('Turtle', 59),\n",
       " ('began', 58),\n",
       " ('m', 58),\n",
       " ('can', 57),\n",
       " ('way', 56),\n",
       " ('ll', 56),\n",
       " ('its', 56),\n",
       " ('Mock', 56),\n",
       " ('by', 55),\n",
       " ('my', 55),\n",
       " ('Hatter', 55),\n",
       " ('Gryphon', 55),\n",
       " ('quite', 53),\n",
       " ('your', 53),\n",
       " ('an', 52),\n",
       " ('much', 51),\n",
       " ('say', 51)]"
      ]
     },
     "execution_count": 12,
     "metadata": {},
     "output_type": "execute_result"
    }
   ],
   "source": [
    "alice_fd_100"
   ]
  },
  {
   "cell_type": "code",
   "execution_count": 15,
   "id": "b190b8d4",
   "metadata": {},
   "outputs": [],
   "source": [
    "alice_100 = [word[0] for word in alice_fd_100]\n",
    "moby_100 = [word[0] for word in moby_fd_100]"
   ]
  },
  {
   "cell_type": "code",
   "execution_count": 16,
   "id": "10819f7a",
   "metadata": {},
   "outputs": [
    {
     "data": {
      "text/plain": [
       "[',',\n",
       " \"'\",\n",
       " 'the',\n",
       " 'and',\n",
       " '.',\n",
       " 'to',\n",
       " 'a',\n",
       " 'I',\n",
       " 'it',\n",
       " 'she',\n",
       " 'of',\n",
       " 'said',\n",
       " \",'\",\n",
       " 'Alice',\n",
       " 'in',\n",
       " 'was',\n",
       " 'you',\n",
       " \"!'\",\n",
       " 'that',\n",
       " 'as',\n",
       " 'her',\n",
       " ':',\n",
       " 't',\n",
       " 'at',\n",
       " 's',\n",
       " 'on',\n",
       " \".'\",\n",
       " ';',\n",
       " 'had',\n",
       " 'with',\n",
       " 'all',\n",
       " '!',\n",
       " \"?'\",\n",
       " 'be',\n",
       " '-',\n",
       " 'for',\n",
       " '--',\n",
       " 'but',\n",
       " 'not',\n",
       " 'they',\n",
       " 'very',\n",
       " 'little',\n",
       " 'so',\n",
       " 'out',\n",
       " 'this',\n",
       " 'The',\n",
       " 'he',\n",
       " 'down',\n",
       " 'up',\n",
       " 'is',\n",
       " 'about',\n",
       " 'one',\n",
       " 'his',\n",
       " 'what',\n",
       " 'them',\n",
       " 'know',\n",
       " 'were',\n",
       " 'like',\n",
       " 'went',\n",
       " 'again',\n",
       " 'herself',\n",
       " 'if',\n",
       " 'or',\n",
       " 'thought',\n",
       " 'Queen',\n",
       " 'could',\n",
       " 'have',\n",
       " 'then',\n",
       " 'would',\n",
       " 'no',\n",
       " 'when',\n",
       " 'do',\n",
       " 'time',\n",
       " 'into',\n",
       " 'And',\n",
       " 'see',\n",
       " 'there',\n",
       " 'It',\n",
       " 'off',\n",
       " 'me',\n",
       " 'King',\n",
       " 'did',\n",
       " '*',\n",
       " 'Turtle',\n",
       " 'began',\n",
       " 'm',\n",
       " 'can',\n",
       " 'way',\n",
       " 'll',\n",
       " 'its',\n",
       " 'Mock',\n",
       " 'by',\n",
       " 'my',\n",
       " 'Hatter',\n",
       " 'Gryphon',\n",
       " 'quite',\n",
       " 'your',\n",
       " 'an',\n",
       " 'much',\n",
       " 'say']"
      ]
     },
     "execution_count": 16,
     "metadata": {},
     "output_type": "execute_result"
    }
   ],
   "source": [
    "alice_100"
   ]
  },
  {
   "cell_type": "code",
   "execution_count": 17,
   "id": "ce32b8bd",
   "metadata": {},
   "outputs": [
    {
     "data": {
      "text/plain": [
       "{\"!'\",\n",
       " '*',\n",
       " \",'\",\n",
       " \".'\",\n",
       " ':',\n",
       " \"?'\",\n",
       " 'Alice',\n",
       " 'Gryphon',\n",
       " 'Hatter',\n",
       " 'King',\n",
       " 'Mock',\n",
       " 'Queen',\n",
       " 'Turtle',\n",
       " 'again',\n",
       " 'began',\n",
       " 'can',\n",
       " 'could',\n",
       " 'did',\n",
       " 'do',\n",
       " 'herself',\n",
       " 'know',\n",
       " 'little',\n",
       " 'll',\n",
       " 'm',\n",
       " 'much',\n",
       " 'off',\n",
       " 'quite',\n",
       " 'said',\n",
       " 'say',\n",
       " 'see',\n",
       " 'she',\n",
       " 't',\n",
       " 'thought',\n",
       " 'way',\n",
       " 'went',\n",
       " 'your'}"
      ]
     },
     "execution_count": 17,
     "metadata": {},
     "output_type": "execute_result"
    }
   ],
   "source": [
    "# subtracting the two sets of words. Words IN Alice but ABSENT in Moby\n",
    "set(alice_100) - set(moby_100)"
   ]
  },
  {
   "cell_type": "code",
   "execution_count": 18,
   "id": "8078ffea",
   "metadata": {},
   "outputs": [
    {
     "data": {
      "text/plain": [
       "{'!\"',\n",
       " '\"',\n",
       " '.\"',\n",
       " '?',\n",
       " 'Ahab',\n",
       " 'But',\n",
       " 'any',\n",
       " 'are',\n",
       " 'been',\n",
       " 'boat',\n",
       " 'from',\n",
       " 'head',\n",
       " 'him',\n",
       " 'long',\n",
       " 'man',\n",
       " 'more',\n",
       " 'now',\n",
       " 'old',\n",
       " 'only',\n",
       " 'other',\n",
       " 'over',\n",
       " 'sea',\n",
       " 'ship',\n",
       " 'some',\n",
       " 'such',\n",
       " 'than',\n",
       " 'their',\n",
       " 'these',\n",
       " 'though',\n",
       " 'upon',\n",
       " 'we',\n",
       " 'whale',\n",
       " 'which',\n",
       " 'who',\n",
       " 'will',\n",
       " 'ye'}"
      ]
     },
     "execution_count": 18,
     "metadata": {},
     "output_type": "execute_result"
    }
   ],
   "source": [
    "set(moby_100) - set(alice_100)"
   ]
  },
  {
   "cell_type": "markdown",
   "id": "a970b8b9",
   "metadata": {},
   "source": [
    "# BIGRAMS"
   ]
  },
  {
   "cell_type": "markdown",
   "id": "7e4e427f",
   "metadata": {},
   "source": [
    "Combinations or sequence of words that appear together in a text. One words -> gram, and we construct sequences of 2 words (bigrams) up to n words (n-grams)"
   ]
  },
  {
   "cell_type": "code",
   "execution_count": 32,
   "id": "df335f10",
   "metadata": {},
   "outputs": [],
   "source": [
    "text = \"I think it might rain today.\""
   ]
  },
  {
   "cell_type": "code",
   "execution_count": 33,
   "id": "f1915e98",
   "metadata": {},
   "outputs": [],
   "source": [
    "tokens = nltk.word_tokenize(text)"
   ]
  },
  {
   "cell_type": "code",
   "execution_count": 34,
   "id": "3a04bd00",
   "metadata": {},
   "outputs": [
    {
     "data": {
      "text/plain": [
       "['I', 'think', 'it', 'might', 'rain', 'today', '.']"
      ]
     },
     "execution_count": 34,
     "metadata": {},
     "output_type": "execute_result"
    }
   ],
   "source": [
    "tokens"
   ]
  },
  {
   "cell_type": "code",
   "execution_count": 35,
   "id": "7e09fa43",
   "metadata": {},
   "outputs": [],
   "source": [
    "# Find the bigrams\n",
    "bigrams = nltk.bigrams(tokens)"
   ]
  },
  {
   "cell_type": "code",
   "execution_count": 36,
   "id": "48aa9a1e",
   "metadata": {},
   "outputs": [
    {
     "name": "stdout",
     "output_type": "stream",
     "text": [
      "('I', 'think')\n",
      "('think', 'it')\n",
      "('it', 'might')\n",
      "('might', 'rain')\n",
      "('rain', 'today')\n",
      "('today', '.')\n"
     ]
    }
   ],
   "source": [
    "for item in bigrams:\n",
    "    print(item)"
   ]
  },
  {
   "cell_type": "code",
   "execution_count": 37,
   "id": "14d711a1",
   "metadata": {},
   "outputs": [],
   "source": [
    "# Trigrams\n",
    "trigrams = nltk.trigrams(tokens)"
   ]
  },
  {
   "cell_type": "code",
   "execution_count": 38,
   "id": "5d57ba2f",
   "metadata": {},
   "outputs": [
    {
     "name": "stdout",
     "output_type": "stream",
     "text": [
      "('I', 'think', 'it')\n",
      "('think', 'it', 'might')\n",
      "('it', 'might', 'rain')\n",
      "('might', 'rain', 'today')\n",
      "('rain', 'today', '.')\n"
     ]
    }
   ],
   "source": [
    "for item in trigrams:\n",
    "    print(item)"
   ]
  },
  {
   "cell_type": "code",
   "execution_count": 39,
   "id": "2695020f",
   "metadata": {},
   "outputs": [],
   "source": [
    "from nltk.util import ngrams"
   ]
  },
  {
   "cell_type": "code",
   "execution_count": 40,
   "id": "14ad2b9e",
   "metadata": {},
   "outputs": [],
   "source": [
    "text2 = \"If it is nice out, I will go to the beach.\""
   ]
  },
  {
   "cell_type": "code",
   "execution_count": 41,
   "id": "d7381ac0",
   "metadata": {},
   "outputs": [],
   "source": [
    "tokens = nltk.word_tokenize(text2)"
   ]
  },
  {
   "cell_type": "code",
   "execution_count": 42,
   "id": "cbd544ae",
   "metadata": {},
   "outputs": [],
   "source": [
    "bigrams_2 = ngrams(tokens,2)"
   ]
  },
  {
   "cell_type": "code",
   "execution_count": 43,
   "id": "0ddf1f72",
   "metadata": {},
   "outputs": [
    {
     "name": "stdout",
     "output_type": "stream",
     "text": [
      "('If', 'it')\n",
      "('it', 'is')\n",
      "('is', 'nice')\n",
      "('nice', 'out')\n",
      "('out', ',')\n",
      "(',', 'I')\n",
      "('I', 'will')\n",
      "('will', 'go')\n",
      "('go', 'to')\n",
      "('to', 'the')\n",
      "('the', 'beach')\n",
      "('beach', '.')\n"
     ]
    }
   ],
   "source": [
    "for item in bigrams_2:\n",
    "    print(item)"
   ]
  },
  {
   "cell_type": "code",
   "execution_count": 44,
   "id": "7a01e182",
   "metadata": {},
   "outputs": [],
   "source": [
    "fourgrams = ngrams(tokens,4)"
   ]
  },
  {
   "cell_type": "code",
   "execution_count": 45,
   "id": "fc6af3f8",
   "metadata": {},
   "outputs": [
    {
     "name": "stdout",
     "output_type": "stream",
     "text": [
      "('If', 'it', 'is', 'nice')\n",
      "('it', 'is', 'nice', 'out')\n",
      "('is', 'nice', 'out', ',')\n",
      "('nice', 'out', ',', 'I')\n",
      "('out', ',', 'I', 'will')\n",
      "(',', 'I', 'will', 'go')\n",
      "('I', 'will', 'go', 'to')\n",
      "('will', 'go', 'to', 'the')\n",
      "('go', 'to', 'the', 'beach')\n",
      "('to', 'the', 'beach', '.')\n"
     ]
    }
   ],
   "source": [
    "for item in fourgrams:\n",
    "    print(item)"
   ]
  },
  {
   "cell_type": "code",
   "execution_count": 50,
   "id": "b59eab26",
   "metadata": {},
   "outputs": [],
   "source": [
    "# Create a function if we're using this very frequently\n",
    "def n_grams(text,n):\n",
    "    tokens = nltk.word_tokenize(text)\n",
    "    grams = ngrams(tokens,n)\n",
    "    return grams"
   ]
  },
  {
   "cell_type": "code",
   "execution_count": 51,
   "id": "60875436",
   "metadata": {},
   "outputs": [],
   "source": [
    "text3 = text + \" \" + text2"
   ]
  },
  {
   "cell_type": "code",
   "execution_count": 52,
   "id": "9ba44af0",
   "metadata": {},
   "outputs": [
    {
     "data": {
      "text/plain": [
       "'I think it might rain today. If it is nice out, I will go to the beach.'"
      ]
     },
     "execution_count": 52,
     "metadata": {},
     "output_type": "execute_result"
    }
   ],
   "source": [
    "text3"
   ]
  },
  {
   "cell_type": "code",
   "execution_count": 53,
   "id": "eb32e09e",
   "metadata": {},
   "outputs": [],
   "source": [
    "grams = n_grams(text3,5)"
   ]
  },
  {
   "cell_type": "code",
   "execution_count": 54,
   "id": "c5fb8979",
   "metadata": {},
   "outputs": [
    {
     "name": "stdout",
     "output_type": "stream",
     "text": [
      "('I', 'think', 'it', 'might', 'rain')\n",
      "('think', 'it', 'might', 'rain', 'today')\n",
      "('it', 'might', 'rain', 'today', '.')\n",
      "('might', 'rain', 'today', '.', 'If')\n",
      "('rain', 'today', '.', 'If', 'it')\n",
      "('today', '.', 'If', 'it', 'is')\n",
      "('.', 'If', 'it', 'is', 'nice')\n",
      "('If', 'it', 'is', 'nice', 'out')\n",
      "('it', 'is', 'nice', 'out', ',')\n",
      "('is', 'nice', 'out', ',', 'I')\n",
      "('nice', 'out', ',', 'I', 'will')\n",
      "('out', ',', 'I', 'will', 'go')\n",
      "(',', 'I', 'will', 'go', 'to')\n",
      "('I', 'will', 'go', 'to', 'the')\n",
      "('will', 'go', 'to', 'the', 'beach')\n",
      "('go', 'to', 'the', 'beach', '.')\n"
     ]
    }
   ],
   "source": [
    "for item in grams:\n",
    "    print(item)"
   ]
  },
  {
   "cell_type": "markdown",
   "id": "76307b22",
   "metadata": {},
   "source": [
    "# REGULAR EXPRESSION"
   ]
  },
  {
   "cell_type": "raw",
   "id": "0230e8c0",
   "metadata": {},
   "source": [
    "^      Start of string \n",
    "$      End of string \n",
    ".      Wild car character (any character)\n",
    "[chr]  Matches one of the characters inside the brackets\n",
    "[a-m]  Matches one character in the range\n",
    "?      The previous character occurs 0 or 1 times\n",
    "*      The previous character occurs 0 or more times\n",
    "+      The previous character occurs 1 or more times\n",
    "a|e    Matches one or the other character\n",
    "()     Parenthesis for grouping expressions\n",
    "\\      Escape character\n",
    "\n",
    "Example:\\\n",
    "^...$         Matches all three-letter/character words\n",
    "^c..$         Matches all three-letter words starting with \"c\"\n",
    "^c            Matches all words starting by \"c\" regardless its length\n",
    "ing$          All words of any length that end in \"ing\"\n",
    "^[chr]at$     Matches the words cat/hat/rat in a document/text\n",
    "^[a-f]        All words starting with a/b/c/d/e/f\n",
    "^.+@.+\\.com$  Matches all email addresses ending with \".com\"\n"
   ]
  },
  {
   "cell_type": "code",
   "execution_count": null,
   "id": "fbacdd00",
   "metadata": {},
   "outputs": [],
   "source": []
  }
 ],
 "metadata": {
  "kernelspec": {
   "display_name": "Python 3 (ipykernel)",
   "language": "python",
   "name": "python3"
  },
  "language_info": {
   "codemirror_mode": {
    "name": "ipython",
    "version": 3
   },
   "file_extension": ".py",
   "mimetype": "text/x-python",
   "name": "python",
   "nbconvert_exporter": "python",
   "pygments_lexer": "ipython3",
   "version": "3.9.12"
  }
 },
 "nbformat": 4,
 "nbformat_minor": 5
}
