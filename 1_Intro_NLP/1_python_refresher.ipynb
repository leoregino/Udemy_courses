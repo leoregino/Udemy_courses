{
 "cells": [
  {
   "cell_type": "markdown",
   "id": "f4657de5",
   "metadata": {},
   "source": [
    "# 1. Lists"
   ]
  },
  {
   "cell_type": "markdown",
   "id": "63d9ea73",
   "metadata": {},
   "source": [
    "#### They can contain numbers, characters, text, another lists, etc"
   ]
  },
  {
   "cell_type": "code",
   "execution_count": 4,
   "id": "732936ca",
   "metadata": {},
   "outputs": [],
   "source": [
    "mylist = [\"a\",\"b\",\"c\"]"
   ]
  },
  {
   "cell_type": "code",
   "execution_count": 5,
   "id": "12490d2f",
   "metadata": {},
   "outputs": [
    {
     "data": {
      "text/plain": [
       "['a', 'b', 'c']"
      ]
     },
     "execution_count": 5,
     "metadata": {},
     "output_type": "execute_result"
    }
   ],
   "source": [
    "mylist"
   ]
  },
  {
   "cell_type": "code",
   "execution_count": 6,
   "id": "366bfe6d",
   "metadata": {},
   "outputs": [],
   "source": [
    "mylist2 = [1,2,3,4,5]"
   ]
  },
  {
   "cell_type": "code",
   "execution_count": 7,
   "id": "b4f0165d",
   "metadata": {},
   "outputs": [
    {
     "data": {
      "text/plain": [
       "[1, 2, 3, 4, 5]"
      ]
     },
     "execution_count": 7,
     "metadata": {},
     "output_type": "execute_result"
    }
   ],
   "source": [
    "mylist2"
   ]
  },
  {
   "cell_type": "code",
   "execution_count": 8,
   "id": "22059ccb",
   "metadata": {},
   "outputs": [
    {
     "data": {
      "text/plain": [
       "'a'"
      ]
     },
     "execution_count": 8,
     "metadata": {},
     "output_type": "execute_result"
    }
   ],
   "source": [
    "mylist[0]"
   ]
  },
  {
   "cell_type": "code",
   "execution_count": 9,
   "id": "fcb740b0",
   "metadata": {},
   "outputs": [
    {
     "data": {
      "text/plain": [
       "1"
      ]
     },
     "execution_count": 9,
     "metadata": {},
     "output_type": "execute_result"
    }
   ],
   "source": [
    "mylist2[0]"
   ]
  },
  {
   "cell_type": "code",
   "execution_count": 10,
   "id": "42102b72",
   "metadata": {},
   "outputs": [
    {
     "data": {
      "text/plain": [
       "[1, 2]"
      ]
     },
     "execution_count": 10,
     "metadata": {},
     "output_type": "execute_result"
    }
   ],
   "source": [
    "mylist2[0:2]"
   ]
  },
  {
   "cell_type": "code",
   "execution_count": 11,
   "id": "bb2bed16",
   "metadata": {},
   "outputs": [
    {
     "data": {
      "text/plain": [
       "['a', 'b']"
      ]
     },
     "execution_count": 11,
     "metadata": {},
     "output_type": "execute_result"
    }
   ],
   "source": [
    "mylist[:2]"
   ]
  },
  {
   "cell_type": "code",
   "execution_count": 12,
   "id": "89082823",
   "metadata": {},
   "outputs": [
    {
     "data": {
      "text/plain": [
       "[1, 2, 3]"
      ]
     },
     "execution_count": 12,
     "metadata": {},
     "output_type": "execute_result"
    }
   ],
   "source": [
    "mylist2[:3]"
   ]
  },
  {
   "cell_type": "markdown",
   "id": "545a3ec6",
   "metadata": {},
   "source": [
    "### Getting the last 2 items from the end"
   ]
  },
  {
   "cell_type": "code",
   "execution_count": 13,
   "id": "42995a35",
   "metadata": {},
   "outputs": [
    {
     "data": {
      "text/plain": [
       "['b', 'c']"
      ]
     },
     "execution_count": 13,
     "metadata": {},
     "output_type": "execute_result"
    }
   ],
   "source": [
    "mylist[-2:]"
   ]
  },
  {
   "cell_type": "markdown",
   "id": "ec8e5c48",
   "metadata": {},
   "source": []
  },
  {
   "cell_type": "markdown",
   "id": "5ea24fd0",
   "metadata": {},
   "source": [
    "# 2. Dictionaries"
   ]
  },
  {
   "cell_type": "markdown",
   "id": "45b3c35d",
   "metadata": {},
   "source": [
    "### It stores key-value pairs. It's useful to look up for information quiclky"
   ]
  },
  {
   "cell_type": "code",
   "execution_count": 14,
   "id": "4d53e1ff",
   "metadata": {},
   "outputs": [],
   "source": [
    "d = {\n",
    "    \"Python\":\"programming\",\n",
    "    \"English\":\"natural\",\n",
    "    \"French\":\"natural\",\n",
    "    \"Ruby\":\"programming\",\n",
    "    \"Javscript\":\"programming\"\n",
    "}"
   ]
  },
  {
   "cell_type": "code",
   "execution_count": 15,
   "id": "4133d5e7",
   "metadata": {},
   "outputs": [
    {
     "data": {
      "text/plain": [
       "{'Python': 'programming',\n",
       " 'English': 'natural',\n",
       " 'French': 'natural',\n",
       " 'Ruby': 'programming',\n",
       " 'Javscript': 'programming'}"
      ]
     },
     "execution_count": 15,
     "metadata": {},
     "output_type": "execute_result"
    }
   ],
   "source": [
    "d"
   ]
  },
  {
   "cell_type": "code",
   "execution_count": 16,
   "id": "b2b0f76b",
   "metadata": {},
   "outputs": [
    {
     "data": {
      "text/plain": [
       "dict"
      ]
     },
     "execution_count": 16,
     "metadata": {},
     "output_type": "execute_result"
    }
   ],
   "source": [
    "type(d)"
   ]
  },
  {
   "cell_type": "code",
   "execution_count": 16,
   "id": "1461db07",
   "metadata": {},
   "outputs": [
    {
     "data": {
      "text/plain": [
       "dict"
      ]
     },
     "execution_count": 16,
     "metadata": {},
     "output_type": "execute_result"
    }
   ],
   "source": [
    "type(d)"
   ]
  },
  {
   "cell_type": "markdown",
   "id": "f31d6abb",
   "metadata": {},
   "source": [
    "Look up for the Value of the Key = \"Python\""
   ]
  },
  {
   "cell_type": "code",
   "execution_count": 17,
   "id": "5d060a2c",
   "metadata": {},
   "outputs": [
    {
     "data": {
      "text/plain": [
       "'programming'"
      ]
     },
     "execution_count": 17,
     "metadata": {},
     "output_type": "execute_result"
    }
   ],
   "source": [
    "d[\"Python\"]"
   ]
  },
  {
   "cell_type": "code",
   "execution_count": 18,
   "id": "ade0ae67",
   "metadata": {},
   "outputs": [
    {
     "data": {
      "text/plain": [
       "'natural'"
      ]
     },
     "execution_count": 18,
     "metadata": {},
     "output_type": "execute_result"
    }
   ],
   "source": [
    "d[\"English\"]"
   ]
  },
  {
   "cell_type": "markdown",
   "id": "b55f2259",
   "metadata": {},
   "source": [
    "Add a new key-value entry to the dictionary"
   ]
  },
  {
   "cell_type": "code",
   "execution_count": 19,
   "id": "31fd55fd",
   "metadata": {},
   "outputs": [],
   "source": [
    "d[\"Scala\"] = \"programming\""
   ]
  },
  {
   "cell_type": "code",
   "execution_count": 20,
   "id": "9c56fe52",
   "metadata": {},
   "outputs": [
    {
     "data": {
      "text/plain": [
       "{'Python': 'programming',\n",
       " 'English': 'natural',\n",
       " 'French': 'natural',\n",
       " 'Ruby': 'programming',\n",
       " 'Javscript': 'programming',\n",
       " 'Scala': 'programming'}"
      ]
     },
     "execution_count": 20,
     "metadata": {},
     "output_type": "execute_result"
    }
   ],
   "source": [
    "d"
   ]
  },
  {
   "cell_type": "markdown",
   "id": "9642da0f",
   "metadata": {},
   "source": [
    "Values can also be numbers"
   ]
  },
  {
   "cell_type": "code",
   "execution_count": 24,
   "id": "65e10d08",
   "metadata": {},
   "outputs": [],
   "source": [
    "d[\"language known\"]= 3"
   ]
  },
  {
   "cell_type": "code",
   "execution_count": 25,
   "id": "8991b6bf",
   "metadata": {},
   "outputs": [
    {
     "data": {
      "text/plain": [
       "{'Python': 'programming',\n",
       " 'English': 'natural',\n",
       " 'French': 'natural',\n",
       " 'Ruby': 'programming',\n",
       " 'Javscript': 'programming',\n",
       " 'Scala': 'programming',\n",
       " 'language known': 3}"
      ]
     },
     "execution_count": 25,
     "metadata": {},
     "output_type": "execute_result"
    }
   ],
   "source": [
    "d"
   ]
  },
  {
   "cell_type": "markdown",
   "id": "19b33b1e",
   "metadata": {},
   "source": [
    "We can look at all the Keys and Values of a dictionary"
   ]
  },
  {
   "cell_type": "code",
   "execution_count": 26,
   "id": "18729558",
   "metadata": {},
   "outputs": [
    {
     "data": {
      "text/plain": [
       "dict_keys(['Python', 'English', 'French', 'Ruby', 'Javscript', 'Scala', 'language known'])"
      ]
     },
     "execution_count": 26,
     "metadata": {},
     "output_type": "execute_result"
    }
   ],
   "source": [
    "d.keys()"
   ]
  },
  {
   "cell_type": "code",
   "execution_count": 27,
   "id": "c14b2ac7",
   "metadata": {},
   "outputs": [
    {
     "data": {
      "text/plain": [
       "dict_values(['programming', 'natural', 'natural', 'programming', 'programming', 'programming', 3])"
      ]
     },
     "execution_count": 27,
     "metadata": {},
     "output_type": "execute_result"
    }
   ],
   "source": [
    "d.values()"
   ]
  },
  {
   "cell_type": "markdown",
   "id": "feb9ed1f",
   "metadata": {},
   "source": [
    "Length of the dictionary"
   ]
  },
  {
   "cell_type": "code",
   "execution_count": 28,
   "id": "010add98",
   "metadata": {},
   "outputs": [
    {
     "data": {
      "text/plain": [
       "7"
      ]
     },
     "execution_count": 28,
     "metadata": {},
     "output_type": "execute_result"
    }
   ],
   "source": [
    "len(d)"
   ]
  },
  {
   "cell_type": "markdown",
   "id": "dfedfa38",
   "metadata": {},
   "source": [
    "# 3. Loops and conditional statements"
   ]
  },
  {
   "cell_type": "code",
   "execution_count": 29,
   "id": "a4eda3f8",
   "metadata": {},
   "outputs": [],
   "source": [
    "mylist_prog = [\"Python\",\"Ruby\",\"Javascript\",\"HTML\"]"
   ]
  },
  {
   "cell_type": "code",
   "execution_count": 31,
   "id": "b4c81ea9",
   "metadata": {},
   "outputs": [
    {
     "data": {
      "text/plain": [
       "['Python', 'Ruby', 'Javascript', 'HTML']"
      ]
     },
     "execution_count": 31,
     "metadata": {},
     "output_type": "execute_result"
    }
   ],
   "source": [
    "mylist_prog"
   ]
  },
  {
   "cell_type": "markdown",
   "id": "caad47b4",
   "metadata": {},
   "source": [
    "Iterating through the list "
   ]
  },
  {
   "cell_type": "code",
   "execution_count": 34,
   "id": "9b43b086",
   "metadata": {},
   "outputs": [
    {
     "name": "stdout",
     "output_type": "stream",
     "text": [
      "Python\n",
      "Ruby\n",
      "Javascript\n",
      "HTML\n"
     ]
    }
   ],
   "source": [
    "for item in mylist_prog:\n",
    "    print(item)"
   ]
  },
  {
   "cell_type": "markdown",
   "id": "4a4b6047",
   "metadata": {},
   "source": [
    "Another alternative to get the same:"
   ]
  },
  {
   "cell_type": "code",
   "execution_count": 35,
   "id": "bb7ec771",
   "metadata": {},
   "outputs": [
    {
     "data": {
      "text/plain": [
       "['Python', 'Ruby', 'Javascript', 'HTML']"
      ]
     },
     "execution_count": 35,
     "metadata": {},
     "output_type": "execute_result"
    }
   ],
   "source": [
    "[item for item in mylist_prog]"
   ]
  },
  {
   "cell_type": "markdown",
   "id": "4eb1adf1",
   "metadata": {},
   "source": [
    "Carrying on actions on each item"
   ]
  },
  {
   "cell_type": "code",
   "execution_count": 36,
   "id": "923e9a4f",
   "metadata": {},
   "outputs": [
    {
     "name": "stdout",
     "output_type": "stream",
     "text": [
      "Python is a fun programming language\n",
      "Ruby is a fun programming language\n",
      "Javascript is a fun programming language\n",
      "HTML is a fun programming language\n"
     ]
    }
   ],
   "source": [
    "for item in mylist_prog:\n",
    "    print(item +\" is a fun programming language\")"
   ]
  },
  {
   "cell_type": "code",
   "execution_count": 37,
   "id": "858874ef",
   "metadata": {},
   "outputs": [],
   "source": [
    "newlist = [item + \"is a fun programming language.\" for item in mylist_prog]"
   ]
  },
  {
   "cell_type": "code",
   "execution_count": 38,
   "id": "0102262f",
   "metadata": {},
   "outputs": [
    {
     "data": {
      "text/plain": [
       "['Pythonis a fun programming language.',\n",
       " 'Rubyis a fun programming language.',\n",
       " 'Javascriptis a fun programming language.',\n",
       " 'HTMLis a fun programming language.']"
      ]
     },
     "execution_count": 38,
     "metadata": {},
     "output_type": "execute_result"
    }
   ],
   "source": [
    "newlist"
   ]
  },
  {
   "cell_type": "code",
   "execution_count": 39,
   "id": "0c81228f",
   "metadata": {},
   "outputs": [],
   "source": [
    "x = 10"
   ]
  },
  {
   "cell_type": "code",
   "execution_count": 40,
   "id": "2d667968",
   "metadata": {},
   "outputs": [
    {
     "name": "stdout",
     "output_type": "stream",
     "text": [
      "it looks like x is greater then 5\n"
     ]
    }
   ],
   "source": [
    "if x>5:\n",
    "    print(\"it looks like x is greater then 5\")"
   ]
  },
  {
   "cell_type": "code",
   "execution_count": 41,
   "id": "8c9f538a",
   "metadata": {},
   "outputs": [
    {
     "name": "stdout",
     "output_type": "stream",
     "text": [
      "hello\n"
     ]
    }
   ],
   "source": [
    "if (x>5 and x<20):\n",
    "    print(\"hello\")"
   ]
  },
  {
   "cell_type": "code",
   "execution_count": 42,
   "id": "659e70a3",
   "metadata": {},
   "outputs": [],
   "source": [
    "number_list = [1,2,3,4,5,6,7,8,9,10]"
   ]
  },
  {
   "cell_type": "code",
   "execution_count": 43,
   "id": "d2677b54",
   "metadata": {},
   "outputs": [
    {
     "name": "stdout",
     "output_type": "stream",
     "text": [
      "1 is odd\n",
      "2 is even\n",
      "3 is odd\n",
      "4 is even\n",
      "5 is odd\n",
      "6 is even\n",
      "7 is the best number!\n",
      "8 is even\n",
      "9 is odd\n",
      "10 is even\n"
     ]
    }
   ],
   "source": [
    "for number in number_list:\n",
    "    if number%2 == 0:\n",
    "        print(str(number) + \" is even\")\n",
    "    elif number == 7:\n",
    "        print( str(number) + ' is the best number!' )\n",
    "    else: \n",
    "        print( str(number) + ' is odd' )"
   ]
  },
  {
   "cell_type": "code",
   "execution_count": null,
   "id": "137dacc7",
   "metadata": {},
   "outputs": [],
   "source": []
  },
  {
   "cell_type": "markdown",
   "id": "9da92570",
   "metadata": {},
   "source": [
    "# 4. Functions"
   ]
  },
  {
   "cell_type": "code",
   "execution_count": 44,
   "id": "2fa91d88",
   "metadata": {},
   "outputs": [],
   "source": [
    "def my_function(something):\n",
    "    return something"
   ]
  },
  {
   "cell_type": "code",
   "execution_count": 45,
   "id": "3fdd400f",
   "metadata": {},
   "outputs": [
    {
     "data": {
      "text/plain": [
       "'hello'"
      ]
     },
     "execution_count": 45,
     "metadata": {},
     "output_type": "execute_result"
    }
   ],
   "source": [
    "my_function(\"hello\")"
   ]
  },
  {
   "cell_type": "code",
   "execution_count": 46,
   "id": "4f69280a",
   "metadata": {},
   "outputs": [
    {
     "data": {
      "text/plain": [
       "2"
      ]
     },
     "execution_count": 46,
     "metadata": {},
     "output_type": "execute_result"
    }
   ],
   "source": [
    "my_function(2)"
   ]
  },
  {
   "cell_type": "code",
   "execution_count": 54,
   "id": "55931323",
   "metadata": {},
   "outputs": [],
   "source": [
    "def information(word):\n",
    "    return \"Word: \" + str(word) + \", Length: \" + str(len(str(word)))"
   ]
  },
  {
   "cell_type": "code",
   "execution_count": 55,
   "id": "360b302f",
   "metadata": {},
   "outputs": [
    {
     "data": {
      "text/plain": [
       "'Word: hello, Length: 5'"
      ]
     },
     "execution_count": 55,
     "metadata": {},
     "output_type": "execute_result"
    }
   ],
   "source": [
    "information(\"hello\")"
   ]
  },
  {
   "cell_type": "code",
   "execution_count": 56,
   "id": "815e1439",
   "metadata": {},
   "outputs": [
    {
     "data": {
      "text/plain": [
       "'Word: language, Length: 8'"
      ]
     },
     "execution_count": 56,
     "metadata": {},
     "output_type": "execute_result"
    }
   ],
   "source": [
    "information(\"language\")"
   ]
  },
  {
   "cell_type": "code",
   "execution_count": 57,
   "id": "3f246269",
   "metadata": {},
   "outputs": [
    {
     "data": {
      "text/plain": [
       "'Word: 10, Length: 2'"
      ]
     },
     "execution_count": 57,
     "metadata": {},
     "output_type": "execute_result"
    }
   ],
   "source": [
    "information(10)"
   ]
  },
  {
   "cell_type": "code",
   "execution_count": 58,
   "id": "455d2ff9",
   "metadata": {},
   "outputs": [
    {
     "data": {
      "text/plain": [
       "'Word: 264, Length: 3'"
      ]
     },
     "execution_count": 58,
     "metadata": {},
     "output_type": "execute_result"
    }
   ],
   "source": [
    "information(10+254)"
   ]
  }
 ],
 "metadata": {
  "kernelspec": {
   "display_name": "Python 3 (ipykernel)",
   "language": "python",
   "name": "python3"
  },
  "language_info": {
   "codemirror_mode": {
    "name": "ipython",
    "version": 3
   },
   "file_extension": ".py",
   "mimetype": "text/x-python",
   "name": "python",
   "nbconvert_exporter": "python",
   "pygments_lexer": "ipython3",
   "version": "3.9.12"
  }
 },
 "nbformat": 4,
 "nbformat_minor": 5
}
